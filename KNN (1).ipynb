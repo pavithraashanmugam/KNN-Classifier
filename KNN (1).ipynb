{
  "nbformat": 4,
  "nbformat_minor": 0,
  "metadata": {
    "colab": {
      "provenance": []
    },
    "kernelspec": {
      "name": "python3",
      "display_name": "Python 3"
    },
    "language_info": {
      "name": "python"
    }
  },
  "cells": [
    {
      "cell_type": "markdown",
      "source": [
        "![image.png](data:image/png;base64,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)"
      ],
      "metadata": {
        "id": "YUjaRHfzeHyv"
      }
    },
    {
      "cell_type": "markdown",
      "source": [
        "importing dependencies"
      ],
      "metadata": {
        "id": "AWDe5osBeVzi"
      }
    },
    {
      "cell_type": "code",
      "execution_count": 84,
      "metadata": {
        "id": "_QnGnuDWdyLN"
      },
      "outputs": [],
      "source": [
        "import numpy as np\n",
        "import statistics"
      ]
    },
    {
      "cell_type": "markdown",
      "source": [
        "Building KNN Classifier"
      ],
      "metadata": {
        "id": "RioPhrRXegGO"
      }
    },
    {
      "cell_type": "code",
      "source": [
        "class KNN_Classifier():\n",
        "\n",
        "  # initiating parameters\n",
        "  def __init__(self, distance_metric):\n",
        "    self.distance_metric = distance_metric\n",
        "\n",
        "\n",
        "\n",
        "\n",
        "  # getting the distance metric\n",
        "  def get_distance_metrics(self, training_data_point, testing_data_point):\n",
        "\n",
        "    if(self.distance_metric == 'euclidean'):\n",
        "      dist = 0\n",
        "\n",
        "      for i in range (len (training_data_point)-1):\n",
        "        dist = dist + (training_data_point[i] - testing_data_point[i]) **2\n",
        "\n",
        "      euclidean_dist = np.sqrt(dist)\n",
        "      return euclidean_dist\n",
        "\n",
        "    elif(self.distance_metric == 'manhattan') :\n",
        "      dist = 0\n",
        "      for i in range (len (training_data_point) - 1):\n",
        "        dist = dist + abs(training_data_point[i] - testing_data_point[i])\n",
        "\n",
        "      manhattan_dist = dist\n",
        "      return manhattan_dist\n",
        "\n",
        "\n",
        "\n",
        "  # getting the nearist neighbor\n",
        "  def nearest_neighbor(self, X_train, test_data, k):\n",
        "\n",
        "    distance_list = []\n",
        "\n",
        "    # appending the training data and its distance from the testing data to the list\n",
        "    for training_data in X_train:\n",
        "      distance = self.get_distance_metrics(training_data, test_data)\n",
        "      distance_list.append((training_data, distance))\n",
        "\n",
        "    # sorting the training data based on the distance\n",
        "    distance_list.sort(key=lambda x:x[1])\n",
        "\n",
        "    neighbors_list = []\n",
        "\n",
        "    # appending the k no.of training datas to the list after sorting\n",
        "    for j in range (k):\n",
        "      neighbors_list.append(distance_list[j][0])\n",
        "\n",
        "    return neighbors_list\n",
        "\n",
        "\n",
        "\n",
        "  # used to predict the class of the new data point\n",
        "  def predict(self, X_train, test_data, k):\n",
        "    neighbors = self.nearest_neighbor(X_train, test_data, k)\n",
        "\n",
        "    for data in neighbors:\n",
        "      label = []\n",
        "      label.append(data[-1])\n",
        "\n",
        "    # using mode to identify the class based on majority\n",
        "    predicted_class = statistics.mode(label)\n",
        "    return predicted_class\n"
      ],
      "metadata": {
        "id": "wcZXTnWkefC1"
      },
      "execution_count": 85,
      "outputs": []
    },
    {
      "cell_type": "markdown",
      "source": [
        "Diabetes Prediction"
      ],
      "metadata": {
        "id": "KtSin_9Dn1Rp"
      }
    },
    {
      "cell_type": "code",
      "source": [
        "import pandas as pd\n",
        "from sklearn.model_selection import train_test_split\n",
        "from sklearn.metrics import accuracy_score"
      ],
      "metadata": {
        "id": "Q95ny64knfnh"
      },
      "execution_count": 86,
      "outputs": []
    },
    {
      "cell_type": "markdown",
      "source": [
        "Loading Dataset to Pandas Dataframe"
      ],
      "metadata": {
        "id": "FRIMI5looFbZ"
      }
    },
    {
      "cell_type": "code",
      "source": [
        "diabetes_data = pd.read_csv('/content/diabetes.csv')"
      ],
      "metadata": {
        "id": "n6RboIj8oElA"
      },
      "execution_count": 87,
      "outputs": []
    },
    {
      "cell_type": "code",
      "source": [
        "diabetes_data.head()"
      ],
      "metadata": {
        "colab": {
          "base_uri": "https://localhost:8080/",
          "height": 226
        },
        "id": "ZAwMyU5DoQym",
        "outputId": "b413b852-0f57-480d-ef1a-989e1c9f1faf"
      },
      "execution_count": 88,
      "outputs": [
        {
          "output_type": "execute_result",
          "data": {
            "text/plain": [
              "   Pregnancies  Glucose  BloodPressure  SkinThickness  Insulin   BMI  \\\n",
              "0            6      148             72             35        0  33.6   \n",
              "1            1       85             66             29        0  26.6   \n",
              "2            8      183             64              0        0  23.3   \n",
              "3            1       89             66             23       94  28.1   \n",
              "4            0      137             40             35      168  43.1   \n",
              "\n",
              "   DiabetesPedigreeFunction  Age  Outcome  \n",
              "0                     0.627   50        1  \n",
              "1                     0.351   31        0  \n",
              "2                     0.672   32        1  \n",
              "3                     0.167   21        0  \n",
              "4                     2.288   33        1  "
            ],
            "text/html": [
              "\n",
              "  <div id=\"df-c8c6f485-dcf5-4b91-91d4-6a2f65a1fa60\" class=\"colab-df-container\">\n",
              "    <div>\n",
              "<style scoped>\n",
              "    .dataframe tbody tr th:only-of-type {\n",
              "        vertical-align: middle;\n",
              "    }\n",
              "\n",
              "    .dataframe tbody tr th {\n",
              "        vertical-align: top;\n",
              "    }\n",
              "\n",
              "    .dataframe thead th {\n",
              "        text-align: right;\n",
              "    }\n",
              "</style>\n",
              "<table border=\"1\" class=\"dataframe\">\n",
              "  <thead>\n",
              "    <tr style=\"text-align: right;\">\n",
              "      <th></th>\n",
              "      <th>Pregnancies</th>\n",
              "      <th>Glucose</th>\n",
              "      <th>BloodPressure</th>\n",
              "      <th>SkinThickness</th>\n",
              "      <th>Insulin</th>\n",
              "      <th>BMI</th>\n",
              "      <th>DiabetesPedigreeFunction</th>\n",
              "      <th>Age</th>\n",
              "      <th>Outcome</th>\n",
              "    </tr>\n",
              "  </thead>\n",
              "  <tbody>\n",
              "    <tr>\n",
              "      <th>0</th>\n",
              "      <td>6</td>\n",
              "      <td>148</td>\n",
              "      <td>72</td>\n",
              "      <td>35</td>\n",
              "      <td>0</td>\n",
              "      <td>33.6</td>\n",
              "      <td>0.627</td>\n",
              "      <td>50</td>\n",
              "      <td>1</td>\n",
              "    </tr>\n",
              "    <tr>\n",
              "      <th>1</th>\n",
              "      <td>1</td>\n",
              "      <td>85</td>\n",
              "      <td>66</td>\n",
              "      <td>29</td>\n",
              "      <td>0</td>\n",
              "      <td>26.6</td>\n",
              "      <td>0.351</td>\n",
              "      <td>31</td>\n",
              "      <td>0</td>\n",
              "    </tr>\n",
              "    <tr>\n",
              "      <th>2</th>\n",
              "      <td>8</td>\n",
              "      <td>183</td>\n",
              "      <td>64</td>\n",
              "      <td>0</td>\n",
              "      <td>0</td>\n",
              "      <td>23.3</td>\n",
              "      <td>0.672</td>\n",
              "      <td>32</td>\n",
              "      <td>1</td>\n",
              "    </tr>\n",
              "    <tr>\n",
              "      <th>3</th>\n",
              "      <td>1</td>\n",
              "      <td>89</td>\n",
              "      <td>66</td>\n",
              "      <td>23</td>\n",
              "      <td>94</td>\n",
              "      <td>28.1</td>\n",
              "      <td>0.167</td>\n",
              "      <td>21</td>\n",
              "      <td>0</td>\n",
              "    </tr>\n",
              "    <tr>\n",
              "      <th>4</th>\n",
              "      <td>0</td>\n",
              "      <td>137</td>\n",
              "      <td>40</td>\n",
              "      <td>35</td>\n",
              "      <td>168</td>\n",
              "      <td>43.1</td>\n",
              "      <td>2.288</td>\n",
              "      <td>33</td>\n",
              "      <td>1</td>\n",
              "    </tr>\n",
              "  </tbody>\n",
              "</table>\n",
              "</div>\n",
              "    <div class=\"colab-df-buttons\">\n",
              "\n",
              "  <div class=\"colab-df-container\">\n",
              "    <button class=\"colab-df-convert\" onclick=\"convertToInteractive('df-c8c6f485-dcf5-4b91-91d4-6a2f65a1fa60')\"\n",
              "            title=\"Convert this dataframe to an interactive table.\"\n",
              "            style=\"display:none;\">\n",
              "\n",
              "  <svg xmlns=\"http://www.w3.org/2000/svg\" height=\"24px\" viewBox=\"0 -960 960 960\">\n",
              "    <path d=\"M120-120v-720h720v720H120Zm60-500h600v-160H180v160Zm220 220h160v-160H400v160Zm0 220h160v-160H400v160ZM180-400h160v-160H180v160Zm440 0h160v-160H620v160ZM180-180h160v-160H180v160Zm440 0h160v-160H620v160Z\"/>\n",
              "  </svg>\n",
              "    </button>\n",
              "\n",
              "  <style>\n",
              "    .colab-df-container {\n",
              "      display:flex;\n",
              "      gap: 12px;\n",
              "    }\n",
              "\n",
              "    .colab-df-convert {\n",
              "      background-color: #E8F0FE;\n",
              "      border: none;\n",
              "      border-radius: 50%;\n",
              "      cursor: pointer;\n",
              "      display: none;\n",
              "      fill: #1967D2;\n",
              "      height: 32px;\n",
              "      padding: 0 0 0 0;\n",
              "      width: 32px;\n",
              "    }\n",
              "\n",
              "    .colab-df-convert:hover {\n",
              "      background-color: #E2EBFA;\n",
              "      box-shadow: 0px 1px 2px rgba(60, 64, 67, 0.3), 0px 1px 3px 1px rgba(60, 64, 67, 0.15);\n",
              "      fill: #174EA6;\n",
              "    }\n",
              "\n",
              "    .colab-df-buttons div {\n",
              "      margin-bottom: 4px;\n",
              "    }\n",
              "\n",
              "    [theme=dark] .colab-df-convert {\n",
              "      background-color: #3B4455;\n",
              "      fill: #D2E3FC;\n",
              "    }\n",
              "\n",
              "    [theme=dark] .colab-df-convert:hover {\n",
              "      background-color: #434B5C;\n",
              "      box-shadow: 0px 1px 3px 1px rgba(0, 0, 0, 0.15);\n",
              "      filter: drop-shadow(0px 1px 2px rgba(0, 0, 0, 0.3));\n",
              "      fill: #FFFFFF;\n",
              "    }\n",
              "  </style>\n",
              "\n",
              "    <script>\n",
              "      const buttonEl =\n",
              "        document.querySelector('#df-c8c6f485-dcf5-4b91-91d4-6a2f65a1fa60 button.colab-df-convert');\n",
              "      buttonEl.style.display =\n",
              "        google.colab.kernel.accessAllowed ? 'block' : 'none';\n",
              "\n",
              "      async function convertToInteractive(key) {\n",
              "        const element = document.querySelector('#df-c8c6f485-dcf5-4b91-91d4-6a2f65a1fa60');\n",
              "        const dataTable =\n",
              "          await google.colab.kernel.invokeFunction('convertToInteractive',\n",
              "                                                    [key], {});\n",
              "        if (!dataTable) return;\n",
              "\n",
              "        const docLinkHtml = 'Like what you see? Visit the ' +\n",
              "          '<a target=\"_blank\" href=https://colab.research.google.com/notebooks/data_table.ipynb>data table notebook</a>'\n",
              "          + ' to learn more about interactive tables.';\n",
              "        element.innerHTML = '';\n",
              "        dataTable['output_type'] = 'display_data';\n",
              "        await google.colab.output.renderOutput(dataTable, element);\n",
              "        const docLink = document.createElement('div');\n",
              "        docLink.innerHTML = docLinkHtml;\n",
              "        element.appendChild(docLink);\n",
              "      }\n",
              "    </script>\n",
              "  </div>\n",
              "\n",
              "\n",
              "<div id=\"df-4c6254c0-03b5-4c62-8995-491c407483dc\">\n",
              "  <button class=\"colab-df-quickchart\" onclick=\"quickchart('df-4c6254c0-03b5-4c62-8995-491c407483dc')\"\n",
              "            title=\"Suggest charts\"\n",
              "            style=\"display:none;\">\n",
              "\n",
              "<svg xmlns=\"http://www.w3.org/2000/svg\" height=\"24px\"viewBox=\"0 0 24 24\"\n",
              "     width=\"24px\">\n",
              "    <g>\n",
              "        <path d=\"M19 3H5c-1.1 0-2 .9-2 2v14c0 1.1.9 2 2 2h14c1.1 0 2-.9 2-2V5c0-1.1-.9-2-2-2zM9 17H7v-7h2v7zm4 0h-2V7h2v10zm4 0h-2v-4h2v4z\"/>\n",
              "    </g>\n",
              "</svg>\n",
              "  </button>\n",
              "\n",
              "<style>\n",
              "  .colab-df-quickchart {\n",
              "      --bg-color: #E8F0FE;\n",
              "      --fill-color: #1967D2;\n",
              "      --hover-bg-color: #E2EBFA;\n",
              "      --hover-fill-color: #174EA6;\n",
              "      --disabled-fill-color: #AAA;\n",
              "      --disabled-bg-color: #DDD;\n",
              "  }\n",
              "\n",
              "  [theme=dark] .colab-df-quickchart {\n",
              "      --bg-color: #3B4455;\n",
              "      --fill-color: #D2E3FC;\n",
              "      --hover-bg-color: #434B5C;\n",
              "      --hover-fill-color: #FFFFFF;\n",
              "      --disabled-bg-color: #3B4455;\n",
              "      --disabled-fill-color: #666;\n",
              "  }\n",
              "\n",
              "  .colab-df-quickchart {\n",
              "    background-color: var(--bg-color);\n",
              "    border: none;\n",
              "    border-radius: 50%;\n",
              "    cursor: pointer;\n",
              "    display: none;\n",
              "    fill: var(--fill-color);\n",
              "    height: 32px;\n",
              "    padding: 0;\n",
              "    width: 32px;\n",
              "  }\n",
              "\n",
              "  .colab-df-quickchart:hover {\n",
              "    background-color: var(--hover-bg-color);\n",
              "    box-shadow: 0 1px 2px rgba(60, 64, 67, 0.3), 0 1px 3px 1px rgba(60, 64, 67, 0.15);\n",
              "    fill: var(--button-hover-fill-color);\n",
              "  }\n",
              "\n",
              "  .colab-df-quickchart-complete:disabled,\n",
              "  .colab-df-quickchart-complete:disabled:hover {\n",
              "    background-color: var(--disabled-bg-color);\n",
              "    fill: var(--disabled-fill-color);\n",
              "    box-shadow: none;\n",
              "  }\n",
              "\n",
              "  .colab-df-spinner {\n",
              "    border: 2px solid var(--fill-color);\n",
              "    border-color: transparent;\n",
              "    border-bottom-color: var(--fill-color);\n",
              "    animation:\n",
              "      spin 1s steps(1) infinite;\n",
              "  }\n",
              "\n",
              "  @keyframes spin {\n",
              "    0% {\n",
              "      border-color: transparent;\n",
              "      border-bottom-color: var(--fill-color);\n",
              "      border-left-color: var(--fill-color);\n",
              "    }\n",
              "    20% {\n",
              "      border-color: transparent;\n",
              "      border-left-color: var(--fill-color);\n",
              "      border-top-color: var(--fill-color);\n",
              "    }\n",
              "    30% {\n",
              "      border-color: transparent;\n",
              "      border-left-color: var(--fill-color);\n",
              "      border-top-color: var(--fill-color);\n",
              "      border-right-color: var(--fill-color);\n",
              "    }\n",
              "    40% {\n",
              "      border-color: transparent;\n",
              "      border-right-color: var(--fill-color);\n",
              "      border-top-color: var(--fill-color);\n",
              "    }\n",
              "    60% {\n",
              "      border-color: transparent;\n",
              "      border-right-color: var(--fill-color);\n",
              "    }\n",
              "    80% {\n",
              "      border-color: transparent;\n",
              "      border-right-color: var(--fill-color);\n",
              "      border-bottom-color: var(--fill-color);\n",
              "    }\n",
              "    90% {\n",
              "      border-color: transparent;\n",
              "      border-bottom-color: var(--fill-color);\n",
              "    }\n",
              "  }\n",
              "</style>\n",
              "\n",
              "  <script>\n",
              "    async function quickchart(key) {\n",
              "      const quickchartButtonEl =\n",
              "        document.querySelector('#' + key + ' button');\n",
              "      quickchartButtonEl.disabled = true;  // To prevent multiple clicks.\n",
              "      quickchartButtonEl.classList.add('colab-df-spinner');\n",
              "      try {\n",
              "        const charts = await google.colab.kernel.invokeFunction(\n",
              "            'suggestCharts', [key], {});\n",
              "      } catch (error) {\n",
              "        console.error('Error during call to suggestCharts:', error);\n",
              "      }\n",
              "      quickchartButtonEl.classList.remove('colab-df-spinner');\n",
              "      quickchartButtonEl.classList.add('colab-df-quickchart-complete');\n",
              "    }\n",
              "    (() => {\n",
              "      let quickchartButtonEl =\n",
              "        document.querySelector('#df-4c6254c0-03b5-4c62-8995-491c407483dc button');\n",
              "      quickchartButtonEl.style.display =\n",
              "        google.colab.kernel.accessAllowed ? 'block' : 'none';\n",
              "    })();\n",
              "  </script>\n",
              "</div>\n",
              "\n",
              "    </div>\n",
              "  </div>\n"
            ],
            "application/vnd.google.colaboratory.intrinsic+json": {
              "type": "dataframe",
              "variable_name": "diabetes_data",
              "summary": "{\n  \"name\": \"diabetes_data\",\n  \"rows\": 768,\n  \"fields\": [\n    {\n      \"column\": \"Pregnancies\",\n      \"properties\": {\n        \"dtype\": \"number\",\n        \"std\": 3,\n        \"min\": 0,\n        \"max\": 17,\n        \"num_unique_values\": 17,\n        \"samples\": [\n          6,\n          1,\n          3\n        ],\n        \"semantic_type\": \"\",\n        \"description\": \"\"\n      }\n    },\n    {\n      \"column\": \"Glucose\",\n      \"properties\": {\n        \"dtype\": \"number\",\n        \"std\": 31,\n        \"min\": 0,\n        \"max\": 199,\n        \"num_unique_values\": 136,\n        \"samples\": [\n          151,\n          101,\n          112\n        ],\n        \"semantic_type\": \"\",\n        \"description\": \"\"\n      }\n    },\n    {\n      \"column\": \"BloodPressure\",\n      \"properties\": {\n        \"dtype\": \"number\",\n        \"std\": 19,\n        \"min\": 0,\n        \"max\": 122,\n        \"num_unique_values\": 47,\n        \"samples\": [\n          86,\n          46,\n          85\n        ],\n        \"semantic_type\": \"\",\n        \"description\": \"\"\n      }\n    },\n    {\n      \"column\": \"SkinThickness\",\n      \"properties\": {\n        \"dtype\": \"number\",\n        \"std\": 15,\n        \"min\": 0,\n        \"max\": 99,\n        \"num_unique_values\": 51,\n        \"samples\": [\n          7,\n          12,\n          48\n        ],\n        \"semantic_type\": \"\",\n        \"description\": \"\"\n      }\n    },\n    {\n      \"column\": \"Insulin\",\n      \"properties\": {\n        \"dtype\": \"number\",\n        \"std\": 115,\n        \"min\": 0,\n        \"max\": 846,\n        \"num_unique_values\": 186,\n        \"samples\": [\n          52,\n          41,\n          183\n        ],\n        \"semantic_type\": \"\",\n        \"description\": \"\"\n      }\n    },\n    {\n      \"column\": \"BMI\",\n      \"properties\": {\n        \"dtype\": \"number\",\n        \"std\": 7.8841603203754405,\n        \"min\": 0.0,\n        \"max\": 67.1,\n        \"num_unique_values\": 248,\n        \"samples\": [\n          19.9,\n          31.0,\n          38.1\n        ],\n        \"semantic_type\": \"\",\n        \"description\": \"\"\n      }\n    },\n    {\n      \"column\": \"DiabetesPedigreeFunction\",\n      \"properties\": {\n        \"dtype\": \"number\",\n        \"std\": 0.33132859501277484,\n        \"min\": 0.078,\n        \"max\": 2.42,\n        \"num_unique_values\": 517,\n        \"samples\": [\n          1.731,\n          0.426,\n          0.138\n        ],\n        \"semantic_type\": \"\",\n        \"description\": \"\"\n      }\n    },\n    {\n      \"column\": \"Age\",\n      \"properties\": {\n        \"dtype\": \"number\",\n        \"std\": 11,\n        \"min\": 21,\n        \"max\": 81,\n        \"num_unique_values\": 52,\n        \"samples\": [\n          60,\n          47,\n          72\n        ],\n        \"semantic_type\": \"\",\n        \"description\": \"\"\n      }\n    },\n    {\n      \"column\": \"Outcome\",\n      \"properties\": {\n        \"dtype\": \"number\",\n        \"std\": 0,\n        \"min\": 0,\n        \"max\": 1,\n        \"num_unique_values\": 2,\n        \"samples\": [\n          0,\n          1\n        ],\n        \"semantic_type\": \"\",\n        \"description\": \"\"\n      }\n    }\n  ]\n}"
            }
          },
          "metadata": {},
          "execution_count": 88
        }
      ]
    },
    {
      "cell_type": "code",
      "source": [
        "diabetes_data.shape"
      ],
      "metadata": {
        "colab": {
          "base_uri": "https://localhost:8080/"
        },
        "id": "p6noxRgKoT2A",
        "outputId": "2a5a30a6-3af9-4527-9385-7fa77abe45d3"
      },
      "execution_count": 89,
      "outputs": [
        {
          "output_type": "execute_result",
          "data": {
            "text/plain": [
              "(768, 9)"
            ]
          },
          "metadata": {},
          "execution_count": 89
        }
      ]
    },
    {
      "cell_type": "markdown",
      "source": [
        "Seperating target & features"
      ],
      "metadata": {
        "id": "-nA0_HESoaV0"
      }
    },
    {
      "cell_type": "code",
      "source": [
        "X = diabetes_data.drop(columns='Outcome', axis = 1)\n",
        "Y = diabetes_data['Outcome']"
      ],
      "metadata": {
        "id": "Dvq7gJCdoYnZ"
      },
      "execution_count": 90,
      "outputs": []
    },
    {
      "cell_type": "code",
      "source": [
        "# converting data to numpy array\n",
        "X = X.to_numpy()\n",
        "Y = Y.to_numpy()\n",
        "print(X)\n",
        "print(Y)"
      ],
      "metadata": {
        "colab": {
          "base_uri": "https://localhost:8080/"
        },
        "id": "s4RGRmHSon4I",
        "outputId": "4f13abc6-6ce2-4134-e385-c8fc39406a06"
      },
      "execution_count": 91,
      "outputs": [
        {
          "output_type": "stream",
          "name": "stdout",
          "text": [
            "[[  6.    148.     72.    ...  33.6     0.627  50.   ]\n",
            " [  1.     85.     66.    ...  26.6     0.351  31.   ]\n",
            " [  8.    183.     64.    ...  23.3     0.672  32.   ]\n",
            " ...\n",
            " [  5.    121.     72.    ...  26.2     0.245  30.   ]\n",
            " [  1.    126.     60.    ...  30.1     0.349  47.   ]\n",
            " [  1.     93.     70.    ...  30.4     0.315  23.   ]]\n",
            "[1 0 1 0 1 0 1 0 1 1 0 1 0 1 1 1 1 1 0 1 0 0 1 1 1 1 1 0 0 0 0 1 0 0 0 0 0\n",
            " 1 1 1 0 0 0 1 0 1 0 0 1 0 0 0 0 1 0 0 1 0 0 0 0 1 0 0 1 0 1 0 0 0 1 0 1 0\n",
            " 0 0 0 0 1 0 0 0 0 0 1 0 0 0 1 0 0 0 0 1 0 0 0 0 0 1 1 0 0 0 0 0 0 0 0 1 1\n",
            " 1 0 0 1 1 1 0 0 0 1 0 0 0 1 1 0 0 1 1 1 1 1 0 0 0 0 0 0 0 0 0 0 1 0 0 0 0\n",
            " 0 0 0 0 1 0 1 1 0 0 0 1 0 0 0 0 1 1 0 0 0 0 1 1 0 0 0 1 0 1 0 1 0 0 0 0 0\n",
            " 1 1 1 1 1 0 0 1 1 0 1 0 1 1 1 0 0 0 0 0 0 1 1 0 1 0 0 0 1 1 1 1 0 1 1 1 1\n",
            " 0 0 0 0 0 1 0 0 1 1 0 0 0 1 1 1 1 0 0 0 1 1 0 1 0 0 0 0 0 0 0 0 1 1 0 0 0\n",
            " 1 0 1 0 0 1 0 1 0 0 1 1 0 0 0 0 0 1 0 0 0 1 0 0 1 1 0 0 1 0 0 0 1 1 1 0 0\n",
            " 1 0 1 0 1 1 0 1 0 0 1 0 1 1 0 0 1 0 1 0 0 1 0 1 0 1 1 1 0 0 1 0 1 0 0 0 1\n",
            " 0 0 0 0 1 1 1 0 0 0 0 0 0 0 0 0 1 0 0 0 0 0 1 1 1 0 1 1 0 0 1 0 0 1 0 0 1\n",
            " 1 0 0 0 0 1 0 0 1 0 0 0 0 0 0 0 1 1 1 0 0 1 0 0 1 0 0 1 0 1 1 0 1 0 1 0 1\n",
            " 0 1 1 0 0 0 0 1 1 0 1 0 1 0 0 0 0 1 1 0 1 0 1 0 0 0 0 0 1 0 0 0 0 1 0 0 1\n",
            " 1 1 0 0 1 0 0 1 0 0 0 1 0 0 1 0 0 0 0 0 0 0 0 0 1 0 0 0 0 0 0 0 1 0 0 0 1\n",
            " 0 0 0 1 1 0 0 0 0 0 0 0 1 0 0 0 0 1 0 0 0 1 0 0 0 1 0 0 0 1 0 0 0 0 1 1 0\n",
            " 0 0 0 0 0 1 0 0 0 0 0 0 0 0 0 0 0 1 0 0 0 1 1 1 1 0 0 1 1 0 0 0 0 0 0 0 0\n",
            " 0 0 0 0 0 1 1 0 0 0 0 0 0 0 1 0 0 0 0 0 0 0 1 0 1 1 0 0 0 1 0 1 0 1 0 1 0\n",
            " 1 0 0 1 0 0 1 0 0 0 0 1 1 0 1 0 0 0 0 1 1 0 1 0 0 0 1 1 0 0 0 0 0 0 0 0 0\n",
            " 0 1 0 0 0 0 1 0 0 1 0 0 0 1 0 0 0 1 1 1 0 0 0 0 0 0 1 0 0 0 1 0 1 1 1 1 0\n",
            " 1 1 0 0 0 0 0 0 0 1 1 0 1 0 0 1 0 1 0 0 0 0 0 1 0 1 0 1 0 1 1 0 0 0 0 1 1\n",
            " 0 0 0 1 0 1 1 0 0 1 0 0 1 1 0 0 1 0 0 1 0 0 0 0 0 0 0 1 1 1 0 0 0 0 0 0 1\n",
            " 1 0 0 1 0 0 1 0 1 1 1 0 0 1 1 1 0 1 0 1 0 1 0 0 0 0 1 0]\n"
          ]
        }
      ]
    },
    {
      "cell_type": "markdown",
      "source": [
        "Train Test & Split"
      ],
      "metadata": {
        "id": "BQkW6jZQpBhd"
      }
    },
    {
      "cell_type": "code",
      "source": [
        "X_train, X_test, Y_train, Y_test = train_test_split(X,Y, test_size = 0.2, stratify = Y, random_state=2)\n",
        "print(X.shape, X_train.shape, X_test.shape)"
      ],
      "metadata": {
        "colab": {
          "base_uri": "https://localhost:8080/"
        },
        "id": "txU9E25Zo-dR",
        "outputId": "ed6733a8-c80a-4a15-9d98-000bf8b4c453"
      },
      "execution_count": 92,
      "outputs": [
        {
          "output_type": "stream",
          "name": "stdout",
          "text": [
            "(768, 8) (614, 8) (154, 8)\n"
          ]
        }
      ]
    },
    {
      "cell_type": "code",
      "source": [
        "print(X_train)\n",
        "print(Y_train)"
      ],
      "metadata": {
        "colab": {
          "base_uri": "https://localhost:8080/"
        },
        "id": "Fo1EewQspSId",
        "outputId": "41d3cdfa-a18b-473b-e151-359771fd8fad"
      },
      "execution_count": 93,
      "outputs": [
        {
          "output_type": "stream",
          "name": "stdout",
          "text": [
            "[[0.00e+00 1.19e+02 0.00e+00 ... 3.24e+01 1.41e-01 2.40e+01]\n",
            " [6.00e+00 1.05e+02 7.00e+01 ... 3.08e+01 1.22e-01 3.70e+01]\n",
            " [1.00e+00 1.89e+02 6.00e+01 ... 3.01e+01 3.98e-01 5.90e+01]\n",
            " ...\n",
            " [1.10e+01 8.50e+01 7.40e+01 ... 3.01e+01 3.00e-01 3.50e+01]\n",
            " [4.00e+00 1.12e+02 7.80e+01 ... 3.94e+01 2.36e-01 3.80e+01]\n",
            " [0.00e+00 8.60e+01 6.80e+01 ... 3.58e+01 2.38e-01 2.50e+01]]\n",
            "[1 0 1 1 1 1 0 1 0 0 1 1 0 0 0 0 0 0 0 1 0 0 0 0 0 0 1 1 0 1 0 0 0 0 1 1 0\n",
            " 0 0 0 0 1 0 0 0 0 0 0 1 0 1 0 0 0 0 0 1 0 1 0 0 0 0 0 0 0 0 1 1 1 0 0 0 1\n",
            " 1 0 1 0 1 0 0 1 1 0 0 0 0 1 1 0 0 0 1 0 0 1 0 0 1 1 0 1 0 0 1 0 0 0 0 0 0\n",
            " 0 1 0 0 0 0 0 1 1 0 0 1 0 0 1 0 1 0 1 1 1 1 0 0 0 0 1 0 0 0 1 0 0 0 1 1 0\n",
            " 1 1 0 1 1 1 1 0 0 0 1 0 0 1 0 1 0 0 1 0 0 0 0 1 0 1 1 0 1 1 0 0 0 1 0 0 0\n",
            " 0 1 0 1 0 1 0 0 1 0 1 0 0 1 0 1 0 0 1 1 0 1 0 0 0 0 0 0 0 1 0 1 0 0 0 1 0\n",
            " 0 1 1 0 0 1 0 0 1 0 0 0 1 1 1 0 0 0 0 0 0 1 0 0 0 0 0 0 1 1 0 1 0 1 1 1 1\n",
            " 0 0 1 0 0 1 1 0 0 0 0 1 0 0 0 1 1 1 1 1 0 1 1 0 0 0 0 0 0 0 0 0 0 0 0 1 1\n",
            " 0 0 0 0 1 1 0 0 0 0 0 0 0 0 0 0 1 0 1 0 0 0 1 1 1 0 0 0 0 1 0 0 0 0 0 0 0\n",
            " 0 1 0 0 0 0 0 0 1 1 0 0 0 0 1 1 0 1 0 0 0 1 0 0 0 0 1 0 1 0 1 1 0 0 0 0 0\n",
            " 0 1 1 1 1 0 1 1 1 0 1 0 0 0 1 0 1 0 0 0 1 0 0 1 1 0 0 0 0 0 1 0 0 0 0 1 0\n",
            " 1 0 0 0 0 0 0 1 0 0 0 0 1 0 0 0 0 0 1 0 0 0 1 0 0 0 0 1 0 1 0 0 1 0 0 0 0\n",
            " 1 1 1 0 0 0 1 0 0 0 1 1 0 0 1 1 0 0 0 1 0 1 1 0 1 0 0 1 1 0 0 0 0 0 1 0 1\n",
            " 0 0 0 0 0 0 1 0 0 0 1 0 0 0 0 1 0 0 1 0 0 1 1 0 1 0 0 1 1 0 1 0 0 1 1 0 0\n",
            " 0 1 0 1 0 1 1 0 0 0 0 0 0 1 0 0 1 0 1 1 1 1 1 1 0 1 1 0 1 0 1 1 0 1 0 1 0\n",
            " 0 0 0 0 0 0 1 0 0 0 0 0 1 1 0 1 1 0 0 1 0 1 1 1 0 0 0 0 0 0 0 0 1 0 1 0 0\n",
            " 0 0 0 0 1 0 0 0 1 1 0 1 0 0 1 0 0 1 1 0 0 0]\n"
          ]
        }
      ]
    },
    {
      "cell_type": "code",
      "source": [
        "# adding the target along with the features\n",
        "X_train = np.insert(X_train,8,Y_train, axis=1)\n",
        "print(X_train)"
      ],
      "metadata": {
        "colab": {
          "base_uri": "https://localhost:8080/"
        },
        "id": "Ri7E75mXpgPY",
        "outputId": "4af56309-0d88-454d-9dbe-eca55f3e35ff"
      },
      "execution_count": 94,
      "outputs": [
        {
          "output_type": "stream",
          "name": "stdout",
          "text": [
            "[[0.00e+00 1.19e+02 0.00e+00 ... 1.41e-01 2.40e+01 1.00e+00]\n",
            " [6.00e+00 1.05e+02 7.00e+01 ... 1.22e-01 3.70e+01 0.00e+00]\n",
            " [1.00e+00 1.89e+02 6.00e+01 ... 3.98e-01 5.90e+01 1.00e+00]\n",
            " ...\n",
            " [1.10e+01 8.50e+01 7.40e+01 ... 3.00e-01 3.50e+01 0.00e+00]\n",
            " [4.00e+00 1.12e+02 7.80e+01 ... 2.36e-01 3.80e+01 0.00e+00]\n",
            " [0.00e+00 8.60e+01 6.80e+01 ... 2.38e-01 2.50e+01 0.00e+00]]\n"
          ]
        }
      ]
    },
    {
      "cell_type": "code",
      "source": [
        "X_train.shape"
      ],
      "metadata": {
        "colab": {
          "base_uri": "https://localhost:8080/"
        },
        "id": "OrnasRRRqO2j",
        "outputId": "e98f021d-84d4-48a5-efe9-0e06097fad8f"
      },
      "execution_count": 95,
      "outputs": [
        {
          "output_type": "execute_result",
          "data": {
            "text/plain": [
              "(614, 9)"
            ]
          },
          "metadata": {},
          "execution_count": 95
        }
      ]
    },
    {
      "cell_type": "code",
      "source": [
        "print(X_train[:,8])"
      ],
      "metadata": {
        "colab": {
          "base_uri": "https://localhost:8080/"
        },
        "id": "ZOFSwDo2qgKP",
        "outputId": "c30713a0-1e09-4aae-d0e4-0ed17b45a849"
      },
      "execution_count": 96,
      "outputs": [
        {
          "output_type": "stream",
          "name": "stdout",
          "text": [
            "[1. 0. 1. 1. 1. 1. 0. 1. 0. 0. 1. 1. 0. 0. 0. 0. 0. 0. 0. 1. 0. 0. 0. 0.\n",
            " 0. 0. 1. 1. 0. 1. 0. 0. 0. 0. 1. 1. 0. 0. 0. 0. 0. 1. 0. 0. 0. 0. 0. 0.\n",
            " 1. 0. 1. 0. 0. 0. 0. 0. 1. 0. 1. 0. 0. 0. 0. 0. 0. 0. 0. 1. 1. 1. 0. 0.\n",
            " 0. 1. 1. 0. 1. 0. 1. 0. 0. 1. 1. 0. 0. 0. 0. 1. 1. 0. 0. 0. 1. 0. 0. 1.\n",
            " 0. 0. 1. 1. 0. 1. 0. 0. 1. 0. 0. 0. 0. 0. 0. 0. 1. 0. 0. 0. 0. 0. 1. 1.\n",
            " 0. 0. 1. 0. 0. 1. 0. 1. 0. 1. 1. 1. 1. 0. 0. 0. 0. 1. 0. 0. 0. 1. 0. 0.\n",
            " 0. 1. 1. 0. 1. 1. 0. 1. 1. 1. 1. 0. 0. 0. 1. 0. 0. 1. 0. 1. 0. 0. 1. 0.\n",
            " 0. 0. 0. 1. 0. 1. 1. 0. 1. 1. 0. 0. 0. 1. 0. 0. 0. 0. 1. 0. 1. 0. 1. 0.\n",
            " 0. 1. 0. 1. 0. 0. 1. 0. 1. 0. 0. 1. 1. 0. 1. 0. 0. 0. 0. 0. 0. 0. 1. 0.\n",
            " 1. 0. 0. 0. 1. 0. 0. 1. 1. 0. 0. 1. 0. 0. 1. 0. 0. 0. 1. 1. 1. 0. 0. 0.\n",
            " 0. 0. 0. 1. 0. 0. 0. 0. 0. 0. 1. 1. 0. 1. 0. 1. 1. 1. 1. 0. 0. 1. 0. 0.\n",
            " 1. 1. 0. 0. 0. 0. 1. 0. 0. 0. 1. 1. 1. 1. 1. 0. 1. 1. 0. 0. 0. 0. 0. 0.\n",
            " 0. 0. 0. 0. 0. 0. 1. 1. 0. 0. 0. 0. 1. 1. 0. 0. 0. 0. 0. 0. 0. 0. 0. 0.\n",
            " 1. 0. 1. 0. 0. 0. 1. 1. 1. 0. 0. 0. 0. 1. 0. 0. 0. 0. 0. 0. 0. 0. 1. 0.\n",
            " 0. 0. 0. 0. 0. 1. 1. 0. 0. 0. 0. 1. 1. 0. 1. 0. 0. 0. 1. 0. 0. 0. 0. 1.\n",
            " 0. 1. 0. 1. 1. 0. 0. 0. 0. 0. 0. 1. 1. 1. 1. 0. 1. 1. 1. 0. 1. 0. 0. 0.\n",
            " 1. 0. 1. 0. 0. 0. 1. 0. 0. 1. 1. 0. 0. 0. 0. 0. 1. 0. 0. 0. 0. 1. 0. 1.\n",
            " 0. 0. 0. 0. 0. 0. 1. 0. 0. 0. 0. 1. 0. 0. 0. 0. 0. 1. 0. 0. 0. 1. 0. 0.\n",
            " 0. 0. 1. 0. 1. 0. 0. 1. 0. 0. 0. 0. 1. 1. 1. 0. 0. 0. 1. 0. 0. 0. 1. 1.\n",
            " 0. 0. 1. 1. 0. 0. 0. 1. 0. 1. 1. 0. 1. 0. 0. 1. 1. 0. 0. 0. 0. 0. 1. 0.\n",
            " 1. 0. 0. 0. 0. 0. 0. 1. 0. 0. 0. 1. 0. 0. 0. 0. 1. 0. 0. 1. 0. 0. 1. 1.\n",
            " 0. 1. 0. 0. 1. 1. 0. 1. 0. 0. 1. 1. 0. 0. 0. 1. 0. 1. 0. 1. 1. 0. 0. 0.\n",
            " 0. 0. 0. 1. 0. 0. 1. 0. 1. 1. 1. 1. 1. 1. 0. 1. 1. 0. 1. 0. 1. 1. 0. 1.\n",
            " 0. 1. 0. 0. 0. 0. 0. 0. 0. 1. 0. 0. 0. 0. 0. 1. 1. 0. 1. 1. 0. 0. 1. 0.\n",
            " 1. 1. 1. 0. 0. 0. 0. 0. 0. 0. 0. 1. 0. 1. 0. 0. 0. 0. 0. 0. 1. 0. 0. 0.\n",
            " 1. 1. 0. 1. 0. 0. 1. 0. 0. 1. 1. 0. 0. 0.]\n"
          ]
        }
      ]
    },
    {
      "cell_type": "markdown",
      "source": [
        "X_train -> training data with features as well as the targets   \n",
        "X_test -> test data without the targets"
      ],
      "metadata": {
        "id": "1pi9GTtVqvLa"
      }
    },
    {
      "cell_type": "markdown",
      "source": [
        "Model Training -> KNN"
      ],
      "metadata": {
        "id": "gJAGjIdUrAg7"
      }
    },
    {
      "cell_type": "code",
      "source": [
        " classifier = KNN_Classifier(distance_metric='manhattan')"
      ],
      "metadata": {
        "id": "BeLAWSQ-qmfe"
      },
      "execution_count": 97,
      "outputs": []
    },
    {
      "cell_type": "markdown",
      "source": [
        "KNN can predict only one test point at a time"
      ],
      "metadata": {
        "id": "5aeFQ-GQru3H"
      }
    },
    {
      "cell_type": "code",
      "source": [
        "prediction = classifier.predict(X_train, X_test[0], k =5)"
      ],
      "metadata": {
        "id": "bCOjlBRsrN91"
      },
      "execution_count": 98,
      "outputs": []
    },
    {
      "cell_type": "code",
      "source": [
        "print(X_test[0])\n",
        "print(Y_test[0])"
      ],
      "metadata": {
        "colab": {
          "base_uri": "https://localhost:8080/"
        },
        "id": "iXV8RSqosBJD",
        "outputId": "dc7a2273-7e22-4812-e7dd-07067a76644b"
      },
      "execution_count": 99,
      "outputs": [
        {
          "output_type": "stream",
          "name": "stdout",
          "text": [
            "[  3.    106.     72.      0.      0.     25.8     0.207  27.   ]\n",
            "0\n"
          ]
        }
      ]
    },
    {
      "cell_type": "code",
      "source": [
        "print(prediction)"
      ],
      "metadata": {
        "colab": {
          "base_uri": "https://localhost:8080/"
        },
        "id": "fOM60SmeuE_w",
        "outputId": "da610a60-3432-48f3-c8b5-0333815e5e98"
      },
      "execution_count": 100,
      "outputs": [
        {
          "output_type": "stream",
          "name": "stdout",
          "text": [
            "0.0\n"
          ]
        }
      ]
    },
    {
      "cell_type": "markdown",
      "source": [
        "Predicting the class for multiple data points at a time"
      ],
      "metadata": {
        "id": "Vs5UzIo8uZXm"
      }
    },
    {
      "cell_type": "code",
      "source": [
        "X_test.shape"
      ],
      "metadata": {
        "colab": {
          "base_uri": "https://localhost:8080/"
        },
        "id": "IC0RqPFOuK-M",
        "outputId": "15d37e06-92a0-487a-9e8c-84262af01f4d"
      },
      "execution_count": 101,
      "outputs": [
        {
          "output_type": "execute_result",
          "data": {
            "text/plain": [
              "(154, 8)"
            ]
          },
          "metadata": {},
          "execution_count": 101
        }
      ]
    },
    {
      "cell_type": "code",
      "source": [
        "X_test_size = X_test.shape[0]\n",
        "print(X_test_size)"
      ],
      "metadata": {
        "colab": {
          "base_uri": "https://localhost:8080/"
        },
        "id": "VxlECVFvujeL",
        "outputId": "d06a36a2-27d0-47da-9e6a-aa058e0a681b"
      },
      "execution_count": 102,
      "outputs": [
        {
          "output_type": "stream",
          "name": "stdout",
          "text": [
            "154\n"
          ]
        }
      ]
    },
    {
      "cell_type": "code",
      "source": [
        "Y_predict = []\n",
        "\n",
        "for i in range (X_test_size):\n",
        "  prediction = classifier.predict(X_train, X_test[i], k = 5)\n",
        "  Y_predict.append(prediction)\n",
        "\n",
        "print(Y_predict)"
      ],
      "metadata": {
        "colab": {
          "base_uri": "https://localhost:8080/"
        },
        "id": "m7-yCsMwuwOZ",
        "outputId": "944ddf06-edc5-4fc2-ca7b-d8832f600999"
      },
      "execution_count": 103,
      "outputs": [
        {
          "output_type": "stream",
          "name": "stdout",
          "text": [
            "[np.float64(0.0), np.float64(0.0), np.float64(0.0), np.float64(1.0), np.float64(0.0), np.float64(0.0), np.float64(0.0), np.float64(1.0), np.float64(1.0), np.float64(0.0), np.float64(1.0), np.float64(0.0), np.float64(1.0), np.float64(0.0), np.float64(0.0), np.float64(1.0), np.float64(0.0), np.float64(0.0), np.float64(0.0), np.float64(0.0), np.float64(0.0), np.float64(1.0), np.float64(0.0), np.float64(0.0), np.float64(0.0), np.float64(0.0), np.float64(0.0), np.float64(0.0), np.float64(0.0), np.float64(0.0), np.float64(0.0), np.float64(0.0), np.float64(1.0), np.float64(1.0), np.float64(0.0), np.float64(1.0), np.float64(0.0), np.float64(0.0), np.float64(0.0), np.float64(0.0), np.float64(1.0), np.float64(0.0), np.float64(0.0), np.float64(1.0), np.float64(1.0), np.float64(1.0), np.float64(0.0), np.float64(0.0), np.float64(0.0), np.float64(1.0), np.float64(0.0), np.float64(0.0), np.float64(1.0), np.float64(0.0), np.float64(1.0), np.float64(0.0), np.float64(0.0), np.float64(0.0), np.float64(0.0), np.float64(0.0), np.float64(0.0), np.float64(0.0), np.float64(1.0), np.float64(0.0), np.float64(1.0), np.float64(1.0), np.float64(0.0), np.float64(1.0), np.float64(0.0), np.float64(0.0), np.float64(0.0), np.float64(0.0), np.float64(0.0), np.float64(0.0), np.float64(0.0), np.float64(0.0), np.float64(0.0), np.float64(0.0), np.float64(0.0), np.float64(0.0), np.float64(0.0), np.float64(0.0), np.float64(0.0), np.float64(0.0), np.float64(0.0), np.float64(0.0), np.float64(0.0), np.float64(0.0), np.float64(1.0), np.float64(0.0), np.float64(0.0), np.float64(0.0), np.float64(1.0), np.float64(0.0), np.float64(0.0), np.float64(1.0), np.float64(1.0), np.float64(0.0), np.float64(1.0), np.float64(1.0), np.float64(0.0), np.float64(0.0), np.float64(1.0), np.float64(1.0), np.float64(1.0), np.float64(0.0), np.float64(0.0), np.float64(0.0), np.float64(0.0), np.float64(0.0), np.float64(1.0), np.float64(0.0), np.float64(0.0), np.float64(1.0), np.float64(0.0), np.float64(1.0), np.float64(0.0), np.float64(1.0), np.float64(1.0), np.float64(1.0), np.float64(0.0), np.float64(0.0), np.float64(0.0), np.float64(0.0), np.float64(0.0), np.float64(0.0), np.float64(0.0), np.float64(0.0), np.float64(0.0), np.float64(0.0), np.float64(1.0), np.float64(1.0), np.float64(1.0), np.float64(0.0), np.float64(1.0), np.float64(0.0), np.float64(0.0), np.float64(1.0), np.float64(0.0), np.float64(1.0), np.float64(0.0), np.float64(0.0), np.float64(1.0), np.float64(0.0), np.float64(0.0), np.float64(1.0), np.float64(0.0), np.float64(0.0), np.float64(1.0), np.float64(0.0), np.float64(1.0), np.float64(0.0), np.float64(0.0), np.float64(0.0)]\n"
          ]
        }
      ]
    },
    {
      "cell_type": "code",
      "source": [
        "Y_true = Y_test"
      ],
      "metadata": {
        "id": "usrD72z0vFhp"
      },
      "execution_count": 104,
      "outputs": []
    },
    {
      "cell_type": "markdown",
      "source": [
        "Model Evaluation"
      ],
      "metadata": {
        "id": "KmhkY20mvXQg"
      }
    },
    {
      "cell_type": "code",
      "source": [
        "accuracy = accuracy_score(Y_predict, Y_true)"
      ],
      "metadata": {
        "id": "AuCcjWwJvUFD"
      },
      "execution_count": 105,
      "outputs": []
    },
    {
      "cell_type": "code",
      "source": [
        "print(accuracy)"
      ],
      "metadata": {
        "colab": {
          "base_uri": "https://localhost:8080/"
        },
        "id": "-I3wOOwZvc4K",
        "outputId": "db4e0cfd-9d20-4abf-8d6b-ca7017d48ce5"
      },
      "execution_count": 106,
      "outputs": [
        {
          "output_type": "stream",
          "name": "stdout",
          "text": [
            "0.7402597402597403\n"
          ]
        }
      ]
    },
    {
      "cell_type": "code",
      "source": [],
      "metadata": {
        "id": "wOHlo4GAvf2g"
      },
      "execution_count": 106,
      "outputs": []
    }
  ]
}